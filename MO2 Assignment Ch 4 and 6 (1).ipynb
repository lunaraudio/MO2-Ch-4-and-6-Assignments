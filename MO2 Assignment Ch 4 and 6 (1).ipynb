{
 "cells": [
  {
   "cell_type": "code",
   "execution_count": 16,
   "id": "86b70281-effc-4544-9a41-f2f9918e8d18",
   "metadata": {},
   "outputs": [
    {
     "name": "stdout",
     "output_type": "stream",
     "text": [
      "too high\n"
     ]
    }
   ],
   "source": [
    "#MO2 4.1 Assignment\n",
    "secret = 9\n",
    "guess = 4\n",
    "if secret < guess:\n",
    "    print('too low')\n",
    "elif secret > guess:\n",
    "    print('too high')\n",
    "else:\n",
    "    print('just right')"
   ]
  },
  {
   "cell_type": "code",
   "execution_count": 27,
   "id": "450a8db5-ec29-4fb8-b101-78ffb8f2ed59",
   "metadata": {},
   "outputs": [
    {
     "name": "stdout",
     "output_type": "stream",
     "text": [
      "the pumpkin is neither green nor small\n"
     ]
    }
   ],
   "source": [
    "#MO2 4.2 Assignment\n",
    "\n",
    "green = False\n",
    "small = False\n",
    "if small:\n",
    "    print('the cherry and pea are small')\n",
    "    if green:\n",
    "        print('the pea is small and green')\n",
    "elif green:\n",
    "    print('the pea and the watermelon are green')\n",
    "else:\n",
    "    print('the pumpkin is neither green nor small')"
   ]
  },
  {
   "cell_type": "code",
   "execution_count": 39,
   "id": "a32dc2da-2a6b-41ed-89c8-d5cafbb94bd7",
   "metadata": {},
   "outputs": [
    {
     "name": "stdout",
     "output_type": "stream",
     "text": [
      "3\n",
      "2\n",
      "1\n",
      "0\n"
     ]
    }
   ],
   "source": [
    "#MO2 Assignment 6.1\n",
    "list(range(0,3))\n",
    "for y in range(3, -1, -1):\n",
    "    print(y)"
   ]
  },
  {
   "cell_type": "code",
   "execution_count": 34,
   "id": "4003b01c-d468-4e6e-ae24-d574bd285eb1",
   "metadata": {},
   "outputs": [
    {
     "name": "stdout",
     "output_type": "stream",
     "text": [
      "too low\n",
      "too low\n",
      "too low\n",
      "too low\n",
      "too low\n",
      "too low\n",
      "found it!\n"
     ]
    }
   ],
   "source": [
    "#MO2 Assignment 6.2\n",
    "guess_me = 7\n",
    "number = 1\n",
    "while True:\n",
    "    if number < guess_me:\n",
    "        print('too low')\n",
    "    elif number == guess_me:\n",
    "        print('found it!')\n",
    "        break\n",
    "    else:\n",
    "        print('oops')\n",
    "        break\n",
    "    number = number + 1"
   ]
  },
  {
   "cell_type": "code",
   "execution_count": 38,
   "id": "145fac6f-a4bf-45d8-8776-3909c5ec97df",
   "metadata": {},
   "outputs": [
    {
     "name": "stdout",
     "output_type": "stream",
     "text": [
      "too low\n",
      "too low\n",
      "too low\n",
      "too low\n",
      "too low\n",
      "found it!\n"
     ]
    }
   ],
   "source": [
    "#MO2 Assignment 6.3\n",
    "guess_me = 5\n",
    "for number in range(10):\n",
    "    if number < guess_me:\n",
    "        print('too low')\n",
    "    elif number == guess_me:\n",
    "        print('found it!')\n",
    "        break\n",
    "    else:\n",
    "        print('oops')"
   ]
  }
 ],
 "metadata": {
  "kernelspec": {
   "display_name": "Python 3 (ipykernel)",
   "language": "python",
   "name": "python3"
  },
  "language_info": {
   "codemirror_mode": {
    "name": "ipython",
    "version": 3
   },
   "file_extension": ".py",
   "mimetype": "text/x-python",
   "name": "python",
   "nbconvert_exporter": "python",
   "pygments_lexer": "ipython3",
   "version": "3.11.7"
  }
 },
 "nbformat": 4,
 "nbformat_minor": 5
}
